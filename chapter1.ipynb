{
 "cells": [
  {
   "cell_type": "code",
   "execution_count": 1,
   "id": "6d1372cc",
   "metadata": {},
   "outputs": [
    {
     "name": "stdout",
     "output_type": "stream",
     "text": [
      "desserts\n"
     ]
    }
   ],
   "source": [
    "# 000\n",
    "str = 'stressed'\n",
    "rev_str = str[::-1]\n",
    "print(rev_str)"
   ]
  },
  {
   "cell_type": "code",
   "execution_count": 2,
   "id": "b26125ed",
   "metadata": {},
   "outputs": [
    {
     "name": "stdout",
     "output_type": "stream",
     "text": [
      "パトカー\n"
     ]
    }
   ],
   "source": [
    "# 001\n",
    "str = \"パタトクカシーー\"\n",
    "result = str[::2]\n",
    "print(result)"
   ]
  },
  {
   "cell_type": "code",
   "execution_count": 3,
   "id": "5ae15aba",
   "metadata": {},
   "outputs": [
    {
     "name": "stdout",
     "output_type": "stream",
     "text": [
      "パタトクカシーー\n"
     ]
    }
   ],
   "source": [
    "# 002\n",
    "str1 = \"パトカー\"\n",
    "str2 = \"タクシー\"\n",
    "rlt_str = \"\"\n",
    "\n",
    "for c1,c2 in zip(str1,str2):\n",
    "    rlt_str += c1 + c2\n",
    "print(rlt_str)"
   ]
  },
  {
   "cell_type": "markdown",
   "id": "d7c5bbba",
   "metadata": {},
   "source": [
    "## Q003"
   ]
  },
  {
   "cell_type": "code",
   "execution_count": 13,
   "id": "e209d2c2",
   "metadata": {},
   "outputs": [
    {
     "name": "stdout",
     "output_type": "stream",
     "text": [
      "Now I need a drink alcoholic of course after the heavy lectures involving quantum mechanics\n",
      "[3, 1, 4, 1, 5, 9, 2, 6, 5, 3, 5, 8, 9, 7, 9]\n"
     ]
    }
   ],
   "source": [
    "# 003\n",
    "sentence = \"Now I need a drink, alcoholic of course, after the heavy lectures involving quantum mechanics.\"\n",
    "sentence = sentence.replace(',','').replace('.','')\n",
    "print(sentence)\n",
    "words_len = []\n",
    "for word in sentence.split():\n",
    "    words_len.append(len(word))\n",
    "print(words_len)"
   ]
  },
  {
   "cell_type": "markdown",
   "id": "c0bc3f77",
   "metadata": {},
   "source": [
    "## Q004"
   ]
  },
  {
   "cell_type": "code",
   "execution_count": 17,
   "id": "ff7873e0",
   "metadata": {},
   "outputs": [
    {
     "name": "stdout",
     "output_type": "stream",
     "text": [
      "{1: 'H', 2: 'He', 3: 'Li', 4: 'Be', 5: 'B', 6: 'C', 7: 'N', 8: 'O', 9: 'F', 10: 'Ne', 11: 'Na', 12: 'Mi', 13: 'Al', 14: 'Si', 15: 'P', 16: 'S', 17: 'Cl', 18: 'Ar', 19: 'K', 20: 'Ca'}\n"
     ]
    }
   ],
   "source": [
    "# 004\n",
    "sentensce = \"Hi He Lied Because Boron Could Not Oxidize Fluorine. New Nations Might Also Sign Peace Security Clause. Arthur King Can.\"\n",
    "index_list = [1, 5, 6, 7, 8, 9, 15, 16, 19]\n",
    "\n",
    "sentence = sentence.replace(',','').replace('.','')\n",
    "words = sentensce.split()\n",
    "element_symbols = {}\n",
    "\n",
    "# enumerate:you can get the element and index (count) from iterable objects\n",
    "for index, word in enumerate(words):\n",
    "    index = index + 1\n",
    "    if index in index_list:\n",
    "        element_symbols[index] = word[0]\n",
    "    else:\n",
    "        element_symbols[index] = word[:2]\n",
    "\n",
    "print(element_symbols)"
   ]
  },
  {
   "cell_type": "markdown",
   "id": "d5c28d8b",
   "metadata": {},
   "source": [
    "## Q005"
   ]
  },
  {
   "cell_type": "code",
   "execution_count": 26,
   "id": "092c5dd4",
   "metadata": {},
   "outputs": [],
   "source": [
    "sentence = \"I am an NLPer\"\n",
    "\n",
    "# return n-gram\n",
    "def n_gram(sentence, N):\n",
    "    result = []\n",
    "    for i in range(0, len(sentence) - N + 1):\n",
    "        result.append(sentence[i:i+N])\n",
    "    return result\n"
   ]
  },
  {
   "cell_type": "code",
   "execution_count": 30,
   "id": "f358382f",
   "metadata": {},
   "outputs": [
    {
     "name": "stdout",
     "output_type": "stream",
     "text": [
      "[['I', 'am'], ['am', 'an'], ['an', 'NLPer']]\n"
     ]
    }
   ],
   "source": [
    "# word bi-gram\n",
    "print(n_gram(sentence.split(' '), 2))"
   ]
  },
  {
   "cell_type": "code",
   "execution_count": 33,
   "id": "e84aab00",
   "metadata": {
    "scrolled": true
   },
   "outputs": [
    {
     "name": "stdout",
     "output_type": "stream",
     "text": [
      "3\n",
      "[['I', 'am', 'an'], ['am', 'an', 'NLPer']]\n"
     ]
    }
   ],
   "source": [
    "N = int(input())\n",
    "print(n_gram(sentence.split(' '), N))"
   ]
  },
  {
   "cell_type": "code",
   "execution_count": 34,
   "id": "a5635805",
   "metadata": {},
   "outputs": [
    {
     "name": "stdout",
     "output_type": "stream",
     "text": [
      "['I ', ' a', 'am', 'm ', ' a', 'an', 'n ', ' N', 'NL', 'LP', 'Pe', 'er']\n"
     ]
    }
   ],
   "source": [
    "# char bi-gram\n",
    "print(n_gram(sentence, 2))"
   ]
  },
  {
   "cell_type": "code",
   "execution_count": 35,
   "id": "ac80aba7",
   "metadata": {},
   "outputs": [
    {
     "name": "stdout",
     "output_type": "stream",
     "text": [
      "3\n",
      "['I a', ' am', 'am ', 'm a', ' an', 'an ', 'n N', ' NL', 'NLP', 'LPe', 'Per']\n"
     ]
    }
   ],
   "source": [
    "N = int(input())\n",
    "print(n_gram(sentence, N))"
   ]
  },
  {
   "cell_type": "markdown",
   "id": "4dce3691",
   "metadata": {},
   "source": [
    "## Q006"
   ]
  },
  {
   "cell_type": "code",
   "execution_count": 42,
   "id": "53a2449c",
   "metadata": {},
   "outputs": [
    {
     "name": "stdout",
     "output_type": "stream",
     "text": [
      "X\n",
      "{'se', 'is', 'ap', 'ad', 'ar', 'pa', 'ra', 'di'}\n",
      "Y\n",
      "{'ph', 'ap', 'ag', 'gr', 'ar', 'pa', 'ra'}\n",
      "X or Y:\n",
      "{'se', 'ph', 'is', 'ap', 'ag', 'gr', 'ad', 'ar', 'pa', 'ra', 'di'}\n",
      "X and Y:\n",
      "{'pa', 'ar', 'ap', 'ra'}\n",
      "X sub Y:\n",
      "{'ad', 'se', 'is', 'di'}\n",
      "Y sub X:\n",
      "{'ph', 'ag', 'gr'}\n",
      "'se' in X:\n",
      "True\n",
      "'se' in Y:\n",
      "False\n"
     ]
    }
   ],
   "source": [
    "_str = \"paraparaparadise\"\n",
    "y_str = \"paragraph\"\n",
    "\n",
    "# n-gram in Q005\n",
    "# bi-gram\n",
    "X = set(n_gram(x_str, N=2))\n",
    "Y = set(n_gram(y_str, N=2))\n",
    "print(\"X\")\n",
    "print(X)\n",
    "print(\"Y\")\n",
    "print(Y)\n",
    "\n",
    "XorY = X | Y\n",
    "print('X or Y:')\n",
    "print(XorY)\n",
    "\n",
    "XandY = X & Y\n",
    "print('X and Y:')\n",
    "print(XandY)\n",
    "\n",
    "XsubY = X - Y\n",
    "print('X sub Y:')\n",
    "print(XsubY)\n",
    "\n",
    "YsubX = Y - X\n",
    "print('Y sub X:')\n",
    "print(YsubX)\n",
    "\n",
    "print(\"'se' in X:\")\n",
    "print('se' in X)\n",
    "print(\"'se' in Y:\")\n",
    "print('se' in Y)\n"
   ]
  },
  {
   "cell_type": "markdown",
   "id": "e78967ea",
   "metadata": {},
   "source": [
    "## Q007"
   ]
  },
  {
   "cell_type": "code",
   "execution_count": 44,
   "id": "54014ac4",
   "metadata": {},
   "outputs": [
    {
     "name": "stdout",
     "output_type": "stream",
     "text": [
      "12時の気温は22.4\n"
     ]
    }
   ],
   "source": [
    "time_hour = 12\n",
    "A = \"気温\"\n",
    "B = 22.4\n",
    "\n",
    "\n",
    "def template_A_is_B_at_timehour(time_hour, A, B):\n",
    "    return \"{0}時の{1}は{2}\".format(time_hour, A, B)\n",
    "\n",
    "print( template_A_is_B_at_timehour(time_hour, A, B))"
   ]
  },
  {
   "cell_type": "markdown",
   "id": "b2538f6a",
   "metadata": {},
   "source": [
    "## Q008"
   ]
  },
  {
   "cell_type": "code",
   "execution_count": 5,
   "id": "bbf23b0a",
   "metadata": {},
   "outputs": [
    {
     "name": "stdout",
     "output_type": "stream",
     "text": [
      "Iam a NLP beginner\n",
      "Izn z NLP yvtrmmvi\n"
     ]
    }
   ],
   "source": [
    "def cipher(target):\n",
    "    '''\n",
    "    ・英小文字ならば(219 - 文字コード)の文字に置換\n",
    "    ・その他の文字はそのまま出力\n",
    "    '''\n",
    "    result = ''\n",
    "    for c in target:\n",
    "        if c.islower():\n",
    "            result += chr(219 - ord(c))\n",
    "        else:\n",
    "            result += c\n",
    "    return result\n",
    "\n",
    "target = \"Iam a NLP beginner\"\n",
    "print(target)\n",
    "print(cipher(target))"
   ]
  },
  {
   "cell_type": "markdown",
   "id": "7b950860",
   "metadata": {},
   "source": [
    "## Q009"
   ]
  },
  {
   "cell_type": "code",
   "execution_count": 8,
   "id": "6bda7ca1",
   "metadata": {},
   "outputs": [
    {
     "name": "stdout",
     "output_type": "stream",
     "text": [
      "I c’lnudot bvleiee that I colud atllcauy uetnadnsrd what I was rdnieag : the pmneahenol pewor of the hmuan mind .\n"
     ]
    }
   ],
   "source": [
    "# 009\n",
    "import random\n",
    "s = 'I couldn’t believe that I could actually understand what I was reading : the phenomenal power of the human mind .'\n",
    "output = []\n",
    "text = s.split()\n",
    "for word in text:\n",
    "    if (len(word)>4):\n",
    "        mid_word = list(word[1:-1])\n",
    "        random.shuffle(mid_word)\n",
    "        word = word[0] + ''.join(mid_word) + word[-1]\n",
    "        output.append(word)\n",
    "    else:\n",
    "        output.append(word)\n",
    "print (' '.join(output))\n"
   ]
  },
  {
   "cell_type": "code",
   "execution_count": null,
   "id": "c4cb8aaf",
   "metadata": {},
   "outputs": [],
   "source": []
  }
 ],
 "metadata": {
  "kernelspec": {
   "display_name": "Python 3 (ipykernel)",
   "language": "python",
   "name": "python3"
  },
  "language_info": {
   "codemirror_mode": {
    "name": "ipython",
    "version": 3
   },
   "file_extension": ".py",
   "mimetype": "text/x-python",
   "name": "python",
   "nbconvert_exporter": "python",
   "pygments_lexer": "ipython3",
   "version": "3.9.12"
  }
 },
 "nbformat": 4,
 "nbformat_minor": 5
}
